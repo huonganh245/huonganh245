{
  "nbformat": 4,
  "nbformat_minor": 0,
  "metadata": {
    "colab": {
      "provenance": [],
      "collapsed_sections": [
        "gw9VC21wC0rQ",
        "BfBhJwBNGGch",
        "PvphnzAGIhnS"
      ]
    },
    "kernelspec": {
      "name": "python3",
      "display_name": "Python 3"
    },
    "language_info": {
      "name": "python"
    }
  },
  "cells": [
    {
      "cell_type": "code",
      "source": [
        "# Import data\n",
        "import pandas as pd\n",
        "import sqlite3\n",
        "\n",
        "# Define file path and table name\n",
        "csv_file = 'NewbornNamesDK.csv'\n",
        "table_name = 'baby_names'\n",
        "\n",
        "# Connect to database\n",
        "conn = sqlite3.connect('data.db')\n",
        "\n",
        "# Read CSV data\n",
        "df = pd.read_csv(csv_file, delimiter=';')\n",
        "\n",
        "# Create table\n",
        "conn.cursor().execute(f\"DROP TABLE IF EXISTS {table_name}\")\n",
        "\n",
        "# Import data into table\n",
        "df.to_sql(table_name, conn, index=False)\n",
        "cursor = conn.cursor()\n",
        "\n",
        "# Show schemas\n",
        "schemas = cursor.execute(\"PRAGMA table_info('baby_names')\").fetchall()\n",
        "print(schemas)\n",
        "\n",
        "print(f\"Data from '{csv_file}' successfully imported into table '{table_name}'\")\n"
      ],
      "metadata": {
        "colab": {
          "base_uri": "https://localhost:8080/"
        },
        "id": "Ipz9v9slh3lz",
        "outputId": "a6773590-66f0-44d3-9d13-c8bfd9bcbf42"
      },
      "execution_count": null,
      "outputs": [
        {
          "output_type": "stream",
          "name": "stdout",
          "text": [
            "[(0, 'Year', 'INTEGER', 0, None, 0), (1, 'Name', 'TEXT', 0, None, 0), (2, 'Total', 'INTEGER', 0, None, 0), (3, 'Gender', 'TEXT', 0, None, 0)]\n",
            "Data from 'NewbornNamesDK.csv' successfully imported into table 'baby_names'\n"
          ]
        }
      ]
    },
    {
      "cell_type": "markdown",
      "source": [
        "![](https://drive.google.com/uc?export=view&id=1aawqW3t9VCmNJcz3weNsyfgUQt-3WEva)"
      ],
      "metadata": {
        "id": "mBt_aes9v2mw"
      }
    },
    {
      "cell_type": "markdown",
      "source": [
        "#**Danish baby names analysis**\n",
        "Being inspired by a case study from Datacamp, I decided to do this project as a fun activity with my friend who was expecting to have an angel in 2023.\n",
        "\n",
        "* I used the data provided by Statistics Denmark about the names given to newborn children in 38 years (1985-2022) to understand how Danish baby name tastes changed by investigating trends of popularity.\n",
        "\n",
        "* The data lists names, the gender and total number of babies born in each year. For processing speed purposes, I've limited the dataset to names which were given from 400 Danish babies in a given year.\n",
        "\n",
        "#### ▶  **baby_names**\n",
        "| Column | Type | Meaning |\n",
        "| -------- | ------- | ------- |\n",
        "| year | int | year |\n",
        "| name | varchar | name |\n",
        "| gender | varchar | gender of babies given *name* |\n",
        "| total | int | number of babies of *gender* given *name* in that *year*|"
      ],
      "metadata": {
        "id": "pLAkj-rr3k0k"
      }
    },
    {
      "cell_type": "markdown",
      "source": [
        "##1. Classic Danish name:\n",
        "\n",
        "* First, let's find top 6 classic Danish names that appeared most frequently through years."
      ],
      "metadata": {
        "id": "Y5PWKlaaSzng"
      }
    },
    {
      "cell_type": "code",
      "source": [
        "# Query\n",
        "cursor.execute('SELECT name, sum(total), gender, count(year) as frequency FROM baby_names GROUP BY name ORDER BY count(year) DESC LIMIT 6')\n",
        "# Fetch results\n",
        "results = cursor.fetchall()\n",
        "#Change the result into tabular format\n",
        "from tabulate import tabulate\n",
        "print(tabulate(results, headers=['Name', 'Total', 'Gender', 'Frequency'], tablefmt=\"fancy_grid\"))\n",
        "\n"
      ],
      "metadata": {
        "colab": {
          "base_uri": "https://localhost:8080/"
        },
        "id": "fB4eTRDlsGQ1",
        "outputId": "a8aa2f0a-04ef-4538-fcde-c3eaf241d61a"
      },
      "execution_count": null,
      "outputs": [
        {
          "output_type": "stream",
          "name": "stdout",
          "text": [
            "╒═══════════╤═════════╤══════════╤═════════════╕\n",
            "│ Name      │   Total │ Gender   │   Frequency │\n",
            "╞═══════════╪═════════╪══════════╪═════════════╡\n",
            "│ Emil      │   20695 │ M        │          32 │\n",
            "├───────────┼─────────┼──────────┼─────────────┤\n",
            "│ Mikkel    │   22302 │ M        │          28 │\n",
            "├───────────┼─────────┼──────────┼─────────────┤\n",
            "│ Emma      │   19031 │ F        │          28 │\n",
            "├───────────┼─────────┼──────────┼─────────────┤\n",
            "│ Oliver    │   16961 │ M        │          27 │\n",
            "├───────────┼─────────┼──────────┼─────────────┤\n",
            "│ Mads      │   21669 │ M        │          26 │\n",
            "├───────────┼─────────┼──────────┼─────────────┤\n",
            "│ Christian │   25211 │ M        │          26 │\n",
            "╘═══════════╧═════════╧══════════╧═════════════╛\n"
          ]
        }
      ]
    },
    {
      "cell_type": "markdown",
      "source": [
        "##2. Popularity type:\n",
        "\n",
        "* It seems like most of the classic names are male ones. Emma is holding her 2nd place. 👼\n",
        "\n",
        "* Next, I would like to categorize the names ased on its popularity. Let's see whether the names fall into \"classic\" that appear in many years, or just \"trendy\" in a few years?"
      ],
      "metadata": {
        "id": "MibEwicg_OzF"
      }
    },
    {
      "cell_type": "code",
      "source": [
        "cursor.execute('SELECT name, sum(total), CASE WHEN count(year) > 26 THEN \"Classic\" WHEN count(year) > 16 THEN \"Semi-classic\" WHEN count(year) > 10 THEN \"Semi-trendy\" ELSE \"Trendy\" END FROM baby_names GROUP BY name ORDER BY name')\n",
        "results = cursor.fetchall()\n",
        "print(tabulate(results, headers=['Name', 'Total', 'Popularity Type'], tablefmt=\"fancy_grid\"))"
      ],
      "metadata": {
        "colab": {
          "base_uri": "https://localhost:8080/"
        },
        "id": "M8-LeDrcsl9W",
        "outputId": "9c1d570f-7607-4d77-8b53-ec61efc11448"
      },
      "execution_count": null,
      "outputs": [
        {
          "output_type": "stream",
          "name": "stdout",
          "text": [
            "╒═════════════╤═════════╤═══════════════════╕\n",
            "│ Name        │   Total │ Popularity Type   │\n",
            "╞═════════════╪═════════╪═══════════════════╡\n",
            "│ Agnes       │     866 │ Trendy            │\n",
            "├─────────────┼─────────┼───────────────────┤\n",
            "│ Aksel       │    1317 │ Trendy            │\n",
            "├─────────────┼─────────┼───────────────────┤\n",
            "│ Alberte     │     412 │ Trendy            │\n",
            "├─────────────┼─────────┼───────────────────┤\n",
            "│ Alexander   │   10387 │ Semi-classic      │\n",
            "├─────────────┼─────────┼───────────────────┤\n",
            "│ Alfred      │    3282 │ Trendy            │\n",
            "├─────────────┼─────────┼───────────────────┤\n",
            "│ Alma        │    3187 │ Trendy            │\n",
            "├─────────────┼─────────┼───────────────────┤\n",
            "│ Amalie      │    5653 │ Semi-trendy       │\n",
            "├─────────────┼─────────┼───────────────────┤\n",
            "│ Anders      │   11720 │ Semi-trendy       │\n",
            "├─────────────┼─────────┼───────────────────┤\n",
            "│ Andreas     │   14050 │ Semi-classic      │\n",
            "├─────────────┼─────────┼───────────────────┤\n",
            "│ Anna        │   10981 │ Semi-classic      │\n",
            "├─────────────┼─────────┼───────────────────┤\n",
            "│ Anne        │    8918 │ Semi-trendy       │\n",
            "├─────────────┼─────────┼───────────────────┤\n",
            "│ Anton       │     851 │ Trendy            │\n",
            "├─────────────┼─────────┼───────────────────┤\n",
            "│ Arthur      │    1352 │ Trendy            │\n",
            "├─────────────┼─────────┼───────────────────┤\n",
            "│ August      │    1295 │ Trendy            │\n",
            "├─────────────┼─────────┼───────────────────┤\n",
            "│ Benjamin    │     411 │ Trendy            │\n",
            "├─────────────┼─────────┼───────────────────┤\n",
            "│ Camilla     │   17206 │ Semi-classic      │\n",
            "├─────────────┼─────────┼───────────────────┤\n",
            "│ Carina      │     478 │ Trendy            │\n",
            "├─────────────┼─────────┼───────────────────┤\n",
            "│ Carl        │    2340 │ Trendy            │\n",
            "├─────────────┼─────────┼───────────────────┤\n",
            "│ Caroline    │   12123 │ Semi-classic      │\n",
            "├─────────────┼─────────┼───────────────────┤\n",
            "│ Cecilie     │   12302 │ Semi-classic      │\n",
            "├─────────────┼─────────┼───────────────────┤\n",
            "│ Christian   │   25211 │ Semi-classic      │\n",
            "├─────────────┼─────────┼───────────────────┤\n",
            "│ Christina   │    8795 │ Semi-trendy       │\n",
            "├─────────────┼─────────┼───────────────────┤\n",
            "│ Christoffer │    6057 │ Semi-trendy       │\n",
            "├─────────────┼─────────┼───────────────────┤\n",
            "│ Clara       │    6646 │ Semi-trendy       │\n",
            "├─────────────┼─────────┼───────────────────┤\n",
            "│ Daniel      │   12548 │ Semi-classic      │\n",
            "├─────────────┼─────────┼───────────────────┤\n",
            "│ Dennis      │    2603 │ Trendy            │\n",
            "├─────────────┼─────────┼───────────────────┤\n",
            "│ Elias       │    1713 │ Trendy            │\n",
            "├─────────────┼─────────┼───────────────────┤\n",
            "│ Ella        │    3063 │ Trendy            │\n",
            "├─────────────┼─────────┼───────────────────┤\n",
            "│ Emil        │   20695 │ Classic           │\n",
            "├─────────────┼─────────┼───────────────────┤\n",
            "│ Emilie      │    8091 │ Semi-trendy       │\n",
            "├─────────────┼─────────┼───────────────────┤\n",
            "│ Emma        │   19031 │ Classic           │\n",
            "├─────────────┼─────────┼───────────────────┤\n",
            "│ Frederik    │   20041 │ Semi-classic      │\n",
            "├─────────────┼─────────┼───────────────────┤\n",
            "│ Freja       │   12802 │ Semi-classic      │\n",
            "├─────────────┼─────────┼───────────────────┤\n",
            "│ Frida       │     403 │ Trendy            │\n",
            "├─────────────┼─────────┼───────────────────┤\n",
            "│ Gustav      │    3588 │ Trendy            │\n",
            "├─────────────┼─────────┼───────────────────┤\n",
            "│ Henrik      │     861 │ Trendy            │\n",
            "├─────────────┼─────────┼───────────────────┤\n",
            "│ Ida         │   14155 │ Semi-classic      │\n",
            "├─────────────┼─────────┼───────────────────┤\n",
            "│ Isabella    │    3914 │ Trendy            │\n",
            "├─────────────┼─────────┼───────────────────┤\n",
            "│ Jacob       │   15924 │ Semi-classic      │\n",
            "├─────────────┼─────────┼───────────────────┤\n",
            "│ Jakob       │    1799 │ Trendy            │\n",
            "├─────────────┼─────────┼───────────────────┤\n",
            "│ Jesper      │    6317 │ Trendy            │\n",
            "├─────────────┼─────────┼───────────────────┤\n",
            "│ Jonas       │   17090 │ Semi-classic      │\n",
            "├─────────────┼─────────┼───────────────────┤\n",
            "│ Josefine    │    8456 │ Semi-classic      │\n",
            "├─────────────┼─────────┼───────────────────┤\n",
            "│ Julie       │   16526 │ Semi-classic      │\n",
            "├─────────────┼─────────┼───────────────────┤\n",
            "│ Karina      │    1319 │ Trendy            │\n",
            "├─────────────┼─────────┼───────────────────┤\n",
            "│ Karl        │    1498 │ Trendy            │\n",
            "├─────────────┼─────────┼───────────────────┤\n",
            "│ Karla       │     403 │ Trendy            │\n",
            "├─────────────┼─────────┼───────────────────┤\n",
            "│ Kasper      │   21630 │ Semi-classic      │\n",
            "├─────────────┼─────────┼───────────────────┤\n",
            "│ Katrine     │   14098 │ Semi-classic      │\n",
            "├─────────────┼─────────┼───────────────────┤\n",
            "│ Kenneth     │    1453 │ Trendy            │\n",
            "├─────────────┼─────────┼───────────────────┤\n",
            "│ Kim         │     845 │ Trendy            │\n",
            "├─────────────┼─────────┼───────────────────┤\n",
            "│ Lars        │     844 │ Trendy            │\n",
            "├─────────────┼─────────┼───────────────────┤\n",
            "│ Lasse       │    7469 │ Semi-trendy       │\n",
            "├─────────────┼─────────┼───────────────────┤\n",
            "│ Laura       │   12474 │ Semi-classic      │\n",
            "├─────────────┼─────────┼───────────────────┤\n",
            "│ Liam        │     900 │ Trendy            │\n",
            "├─────────────┼─────────┼───────────────────┤\n",
            "│ Line        │    9569 │ Semi-trendy       │\n",
            "├─────────────┼─────────┼───────────────────┤\n",
            "│ Louise      │   12467 │ Semi-trendy       │\n",
            "├─────────────┼─────────┼───────────────────┤\n",
            "│ Lucas       │   15173 │ Semi-classic      │\n",
            "├─────────────┼─────────┼───────────────────┤\n",
            "│ Luna        │     411 │ Trendy            │\n",
            "├─────────────┼─────────┼───────────────────┤\n",
            "│ Lærke       │    3629 │ Trendy            │\n",
            "├─────────────┼─────────┼───────────────────┤\n",
            "│ Mads        │   21669 │ Semi-classic      │\n",
            "├─────────────┼─────────┼───────────────────┤\n",
            "│ Magnus      │   12272 │ Semi-classic      │\n",
            "├─────────────┼─────────┼───────────────────┤\n",
            "│ Maja        │    6418 │ Semi-trendy       │\n",
            "├─────────────┼─────────┼───────────────────┤\n",
            "│ Malthe      │    7484 │ Semi-trendy       │\n",
            "├─────────────┼─────────┼───────────────────┤\n",
            "│ Marcus      │    8299 │ Semi-trendy       │\n",
            "├─────────────┼─────────┼───────────────────┤\n",
            "│ Maria       │   12099 │ Semi-classic      │\n",
            "├─────────────┼─────────┼───────────────────┤\n",
            "│ Mark        │     849 │ Trendy            │\n",
            "├─────────────┼─────────┼───────────────────┤\n",
            "│ Martin      │   12956 │ Semi-trendy       │\n",
            "├─────────────┼─────────┼───────────────────┤\n",
            "│ Mathias     │   21786 │ Semi-classic      │\n",
            "├─────────────┼─────────┼───────────────────┤\n",
            "│ Mathilde    │   11001 │ Semi-classic      │\n",
            "├─────────────┼─────────┼───────────────────┤\n",
            "│ Mette       │    8105 │ Semi-trendy       │\n",
            "├─────────────┼─────────┼───────────────────┤\n",
            "│ Michael     │    7241 │ Trendy            │\n",
            "├─────────────┼─────────┼───────────────────┤\n",
            "│ Michelle    │    2439 │ Trendy            │\n",
            "├─────────────┼─────────┼───────────────────┤\n",
            "│ Mikkel      │   22302 │ Classic           │\n",
            "├─────────────┼─────────┼───────────────────┤\n",
            "│ Morten      │    9324 │ Semi-trendy       │\n",
            "├─────────────┼─────────┼───────────────────┤\n",
            "│ Nanna       │    4874 │ Trendy            │\n",
            "├─────────────┼─────────┼───────────────────┤\n",
            "│ Nicklas     │    8584 │ Semi-trendy       │\n",
            "├─────────────┼─────────┼───────────────────┤\n",
            "│ Nicolai     │    9066 │ Trendy            │\n",
            "├─────────────┼─────────┼───────────────────┤\n",
            "│ Nicolaj     │     725 │ Trendy            │\n",
            "├─────────────┼─────────┼───────────────────┤\n",
            "│ Nikolaj     │    8252 │ Semi-trendy       │\n",
            "├─────────────┼─────────┼───────────────────┤\n",
            "│ Noah        │   11245 │ Semi-classic      │\n",
            "├─────────────┼─────────┼───────────────────┤\n",
            "│ Oliver      │   16961 │ Classic           │\n",
            "├─────────────┼─────────┼───────────────────┤\n",
            "│ Olivia      │     428 │ Trendy            │\n",
            "├─────────────┼─────────┼───────────────────┤\n",
            "│ Oscar       │    9504 │ Semi-classic      │\n",
            "├─────────────┼─────────┼───────────────────┤\n",
            "│ Patrick     │    2849 │ Trendy            │\n",
            "├─────────────┼─────────┼───────────────────┤\n",
            "│ Pernille    │    6042 │ Semi-trendy       │\n",
            "├─────────────┼─────────┼───────────────────┤\n",
            "│ Peter       │    5153 │ Semi-trendy       │\n",
            "├─────────────┼─────────┼───────────────────┤\n",
            "│ Rasmus      │   20150 │ Semi-classic      │\n",
            "├─────────────┼─────────┼───────────────────┤\n",
            "│ Rikke       │    4888 │ Trendy            │\n",
            "├─────────────┼─────────┼───────────────────┤\n",
            "│ Sara        │    9233 │ Semi-trendy       │\n",
            "├─────────────┼─────────┼───────────────────┤\n",
            "│ Sarah       │    7649 │ Semi-trendy       │\n",
            "├─────────────┼─────────┼───────────────────┤\n",
            "│ Sebastian   │   10624 │ Semi-classic      │\n",
            "├─────────────┼─────────┼───────────────────┤\n",
            "│ Signe       │    4911 │ Semi-trendy       │\n",
            "├─────────────┼─────────┼───────────────────┤\n",
            "│ Simon       │   14275 │ Semi-classic      │\n",
            "├─────────────┼─────────┼───────────────────┤\n",
            "│ Simone      │    2680 │ Trendy            │\n",
            "├─────────────┼─────────┼───────────────────┤\n",
            "│ Sofia       │    5210 │ Semi-trendy       │\n",
            "├─────────────┼─────────┼───────────────────┤\n",
            "│ Sofie       │   16724 │ Semi-classic      │\n",
            "├─────────────┼─────────┼───────────────────┤\n",
            "│ Stine       │    2594 │ Trendy            │\n",
            "├─────────────┼─────────┼───────────────────┤\n",
            "│ Søren       │    4672 │ Trendy            │\n",
            "├─────────────┼─────────┼───────────────────┤\n",
            "│ Thomas      │    9110 │ Semi-trendy       │\n",
            "├─────────────┼─────────┼───────────────────┤\n",
            "│ Tobias      │   10489 │ Semi-classic      │\n",
            "├─────────────┼─────────┼───────────────────┤\n",
            "│ Valdemar    │    2541 │ Trendy            │\n",
            "├─────────────┼─────────┼───────────────────┤\n",
            "│ Victor      │   12379 │ Semi-classic      │\n",
            "├─────────────┼─────────┼───────────────────┤\n",
            "│ Victoria    │    1327 │ Trendy            │\n",
            "├─────────────┼─────────┼───────────────────┤\n",
            "│ William     │   11867 │ Semi-classic      │\n",
            "╘═════════════╧═════════╧═══════════════════╛\n"
          ]
        }
      ]
    },
    {
      "cell_type": "markdown",
      "source": [
        "##3. Top-ranked female names since 1985\n",
        "* Oh most of my friends' names fall into \"Semi-classic\". My cousin's name, Nanna, is \"Trendy\". It makes sense as she is way younger than me.\n",
        "\n",
        "* Since there is only 1 classic female name in the first query, let's limit the search this gender and find out \"What are the top-ranked female names since 1985?\"."
      ],
      "metadata": {
        "id": "gw9VC21wC0rQ"
      }
    },
    {
      "cell_type": "code",
      "source": [
        "cursor.execute('SELECT name, SUM(total), RANK() OVER (ORDER BY SUM(total) DESC) FROM baby_names WHERE gender = \"F\" GROUP BY name' )\n",
        "results = cursor.fetchall()\n",
        "print(tabulate(results, headers=['Name', 'Total', 'Female Name Rank'], tablefmt=\"fancy_grid\"))"
      ],
      "metadata": {
        "colab": {
          "base_uri": "https://localhost:8080/"
        },
        "id": "bOB9XUVPCikD",
        "outputId": "b35f29e8-fcf5-4f43-bc07-059a6bab1d69"
      },
      "execution_count": null,
      "outputs": [
        {
          "output_type": "stream",
          "name": "stdout",
          "text": [
            "╒═══════════╤═════════╤════════════════════╕\n",
            "│ Name      │   Total │   Female Name Rank │\n",
            "╞═══════════╪═════════╪════════════════════╡\n",
            "│ Emma      │   19031 │                  1 │\n",
            "├───────────┼─────────┼────────────────────┤\n",
            "│ Camilla   │   17206 │                  2 │\n",
            "├───────────┼─────────┼────────────────────┤\n",
            "│ Sofie     │   16724 │                  3 │\n",
            "├───────────┼─────────┼────────────────────┤\n",
            "│ Julie     │   16526 │                  4 │\n",
            "├───────────┼─────────┼────────────────────┤\n",
            "│ Ida       │   14155 │                  5 │\n",
            "├───────────┼─────────┼────────────────────┤\n",
            "│ Katrine   │   14098 │                  6 │\n",
            "├───────────┼─────────┼────────────────────┤\n",
            "│ Freja     │   12802 │                  7 │\n",
            "├───────────┼─────────┼────────────────────┤\n",
            "│ Laura     │   12474 │                  8 │\n",
            "├───────────┼─────────┼────────────────────┤\n",
            "│ Louise    │   12467 │                  9 │\n",
            "├───────────┼─────────┼────────────────────┤\n",
            "│ Cecilie   │   12302 │                 10 │\n",
            "├───────────┼─────────┼────────────────────┤\n",
            "│ Caroline  │   12123 │                 11 │\n",
            "├───────────┼─────────┼────────────────────┤\n",
            "│ Maria     │   12099 │                 12 │\n",
            "├───────────┼─────────┼────────────────────┤\n",
            "│ Mathilde  │   11001 │                 13 │\n",
            "├───────────┼─────────┼────────────────────┤\n",
            "│ Anna      │   10981 │                 14 │\n",
            "├───────────┼─────────┼────────────────────┤\n",
            "│ Line      │    9569 │                 15 │\n",
            "├───────────┼─────────┼────────────────────┤\n",
            "│ Sara      │    9233 │                 16 │\n",
            "├───────────┼─────────┼────────────────────┤\n",
            "│ Anne      │    8918 │                 17 │\n",
            "├───────────┼─────────┼────────────────────┤\n",
            "│ Christina │    8795 │                 18 │\n",
            "├───────────┼─────────┼────────────────────┤\n",
            "│ Josefine  │    8456 │                 19 │\n",
            "├───────────┼─────────┼────────────────────┤\n",
            "│ Mette     │    8105 │                 20 │\n",
            "├───────────┼─────────┼────────────────────┤\n",
            "│ Emilie    │    8091 │                 21 │\n",
            "├───────────┼─────────┼────────────────────┤\n",
            "│ Sarah     │    7649 │                 22 │\n",
            "├───────────┼─────────┼────────────────────┤\n",
            "│ Clara     │    6646 │                 23 │\n",
            "├───────────┼─────────┼────────────────────┤\n",
            "│ Maja      │    6418 │                 24 │\n",
            "├───────────┼─────────┼────────────────────┤\n",
            "│ Pernille  │    6042 │                 25 │\n",
            "├───────────┼─────────┼────────────────────┤\n",
            "│ Amalie    │    5653 │                 26 │\n",
            "├───────────┼─────────┼────────────────────┤\n",
            "│ Sofia     │    5210 │                 27 │\n",
            "├───────────┼─────────┼────────────────────┤\n",
            "│ Signe     │    4911 │                 28 │\n",
            "├───────────┼─────────┼────────────────────┤\n",
            "│ Rikke     │    4888 │                 29 │\n",
            "├───────────┼─────────┼────────────────────┤\n",
            "│ Nanna     │    4874 │                 30 │\n",
            "├───────────┼─────────┼────────────────────┤\n",
            "│ Isabella  │    3914 │                 31 │\n",
            "├───────────┼─────────┼────────────────────┤\n",
            "│ Lærke     │    3629 │                 32 │\n",
            "├───────────┼─────────┼────────────────────┤\n",
            "│ Alma      │    3187 │                 33 │\n",
            "├───────────┼─────────┼────────────────────┤\n",
            "│ Ella      │    3063 │                 34 │\n",
            "├───────────┼─────────┼────────────────────┤\n",
            "│ Simone    │    2680 │                 35 │\n",
            "├───────────┼─────────┼────────────────────┤\n",
            "│ Stine     │    2594 │                 36 │\n",
            "├───────────┼─────────┼────────────────────┤\n",
            "│ Michelle  │    2439 │                 37 │\n",
            "├───────────┼─────────┼────────────────────┤\n",
            "│ Victoria  │    1327 │                 38 │\n",
            "├───────────┼─────────┼────────────────────┤\n",
            "│ Karina    │    1319 │                 39 │\n",
            "├───────────┼─────────┼────────────────────┤\n",
            "│ Agnes     │     866 │                 40 │\n",
            "├───────────┼─────────┼────────────────────┤\n",
            "│ Carina    │     478 │                 41 │\n",
            "├───────────┼─────────┼────────────────────┤\n",
            "│ Olivia    │     428 │                 42 │\n",
            "├───────────┼─────────┼────────────────────┤\n",
            "│ Alberte   │     412 │                 43 │\n",
            "├───────────┼─────────┼────────────────────┤\n",
            "│ Luna      │     411 │                 44 │\n",
            "├───────────┼─────────┼────────────────────┤\n",
            "│ Karla     │     403 │                 45 │\n",
            "├───────────┼─────────┼────────────────────┤\n",
            "│ Frida     │     403 │                 45 │\n",
            "╘═══════════╧═════════╧════════════════════╛\n"
          ]
        }
      ]
    },
    {
      "cell_type": "markdown",
      "source": [
        "##4. Picking a baby name\n",
        "* This is the part for my beloved client (aka my friend who was the first person seeing this project).\n",
        "\n",
        "* She is finding a female classic name ending with \"ie\" as it sounds lovely. It doesn't matter if it is top ranked or not. Ideally, it's become popular in the years since 2004."
      ],
      "metadata": {
        "id": "BfBhJwBNGGch"
      }
    },
    {
      "cell_type": "code",
      "source": [
        "cursor.execute('SELECT name FROM baby_names WHERE gender = \"F\" AND year > 2004 AND name like \"%ie\" GROUP BY name ORDER BY SUM(total) DESC' )\n",
        "results = cursor.fetchall()\n",
        "print(tabulate(results, headers=['Name'], tablefmt=\"fancy_grid\"))"
      ],
      "metadata": {
        "colab": {
          "base_uri": "https://localhost:8080/"
        },
        "id": "1CkWZOYrHtYV",
        "outputId": "f93a6bbe-c40e-4517-d195-d3255e30a2a0"
      },
      "execution_count": null,
      "outputs": [
        {
          "output_type": "stream",
          "name": "stdout",
          "text": [
            "╒═════════╕\n",
            "│ Name    │\n",
            "╞═════════╡\n",
            "│ Sofie   │\n",
            "├─────────┤\n",
            "│ Julie   │\n",
            "├─────────┤\n",
            "│ Emilie  │\n",
            "├─────────┤\n",
            "│ Cecilie │\n",
            "├─────────┤\n",
            "│ Amalie  │\n",
            "╘═════════╛\n"
          ]
        }
      ]
    },
    {
      "cell_type": "markdown",
      "source": [
        "##5. How has \"Sofie\" name risen?\n",
        "* Among 5 options, my friend was considering \"Sofie\" as her choice. It is the most popular female name ending with \"ie\" since 2004.\n",
        "\n",
        "* Let's see how this name has risen over years."
      ],
      "metadata": {
        "id": "PvphnzAGIhnS"
      }
    },
    {
      "cell_type": "code",
      "source": [
        "cursor.execute('SELECT year, name, total, SUM(total) OVER (ORDER BY year) FROM baby_names WHERE name = \"Sofie\" ORDER BY year' )\n",
        "results = cursor.fetchall()\n",
        "print(tabulate(results, headers=['Year', 'Name', 'Total', 'Cumulative Sofies'], tablefmt=\"fancy_grid\"))"
      ],
      "metadata": {
        "colab": {
          "base_uri": "https://localhost:8080/"
        },
        "id": "ObEIxkH4JrIF",
        "outputId": "472965c6-adff-4524-d6e5-78de0c88ff6f"
      },
      "execution_count": null,
      "outputs": [
        {
          "output_type": "stream",
          "name": "stdout",
          "text": [
            "╒════════╤════════╤═════════╤═════════════════════╕\n",
            "│   Year │ Name   │   Total │   Cumulative Sofies │\n",
            "╞════════╪════════╪═════════╪═════════════════════╡\n",
            "│   1990 │ Sofie  │     486 │                 486 │\n",
            "├────────┼────────┼─────────┼─────────────────────┤\n",
            "│   1991 │ Sofie  │     551 │                1037 │\n",
            "├────────┼────────┼─────────┼─────────────────────┤\n",
            "│   1992 │ Sofie  │     629 │                1666 │\n",
            "├────────┼────────┼─────────┼─────────────────────┤\n",
            "│   1993 │ Sofie  │     631 │                2297 │\n",
            "├────────┼────────┼─────────┼─────────────────────┤\n",
            "│   1994 │ Sofie  │     783 │                3080 │\n",
            "├────────┼────────┼─────────┼─────────────────────┤\n",
            "│   1995 │ Sofie  │     771 │                3851 │\n",
            "├────────┼────────┼─────────┼─────────────────────┤\n",
            "│   1996 │ Sofie  │     762 │                4613 │\n",
            "├────────┼────────┼─────────┼─────────────────────┤\n",
            "│   1997 │ Sofie  │     873 │                5486 │\n",
            "├────────┼────────┼─────────┼─────────────────────┤\n",
            "│   1998 │ Sofie  │     931 │                6417 │\n",
            "├────────┼────────┼─────────┼─────────────────────┤\n",
            "│   1999 │ Sofie  │     888 │                7305 │\n",
            "├────────┼────────┼─────────┼─────────────────────┤\n",
            "│   2000 │ Sofie  │     941 │                8246 │\n",
            "├────────┼────────┼─────────┼─────────────────────┤\n",
            "│   2001 │ Sofie  │     895 │                9141 │\n",
            "├────────┼────────┼─────────┼─────────────────────┤\n",
            "│   2002 │ Sofie  │     976 │               10117 │\n",
            "├────────┼────────┼─────────┼─────────────────────┤\n",
            "│   2003 │ Sofie  │     835 │               10952 │\n",
            "├────────┼────────┼─────────┼─────────────────────┤\n",
            "│   2004 │ Sofie  │     799 │               11751 │\n",
            "├────────┼────────┼─────────┼─────────────────────┤\n",
            "│   2005 │ Sofie  │     834 │               12585 │\n",
            "├────────┼────────┼─────────┼─────────────────────┤\n",
            "│   2006 │ Sofie  │     801 │               13386 │\n",
            "├────────┼────────┼─────────┼─────────────────────┤\n",
            "│   2007 │ Sofie  │     700 │               14086 │\n",
            "├────────┼────────┼─────────┼─────────────────────┤\n",
            "│   2008 │ Sofie  │     661 │               14747 │\n",
            "├────────┼────────┼─────────┼─────────────────────┤\n",
            "│   2009 │ Sofie  │     554 │               15301 │\n",
            "├────────┼────────┼─────────┼─────────────────────┤\n",
            "│   2010 │ Sofie  │     516 │               15817 │\n",
            "├────────┼────────┼─────────┼─────────────────────┤\n",
            "│   2011 │ Sofie  │     480 │               16297 │\n",
            "├────────┼────────┼─────────┼─────────────────────┤\n",
            "│   2012 │ Sofie  │     427 │               16724 │\n",
            "╘════════╧════════╧═════════╧═════════════════════╛\n"
          ]
        }
      ]
    },
    {
      "cell_type": "markdown",
      "source": [
        "##6. Top male names over years\n",
        "* \"Sofie\" has had a steady rise and was popular from 1990 to 2012 as a \"Semi-classic\" name.\n",
        "\n",
        "* Now, let's dive into male names. Among top classic Danish names, 5 out of 6 are male ones. They are classic but showing up in the dataset in most of the year doesn't necessarily mean that the timeless names were the most popular.\n",
        "\n",
        "* Let's find out which name has been number one for the largest number of years and practice **SUBQUERY, CTE, and JOIN**."
      ],
      "metadata": {
        "id": "qDqaULB-KP3t"
      }
    },
    {
      "cell_type": "code",
      "source": [
        "cursor.execute('WITH most_popular_male_name_by_year AS (SELECT b.year, name, total FROM baby_names b INNER JOIN (SELECT year, MAX(total) as max_num FROM baby_names WHERE gender = \"M\" GROUP BY year) as max_table ON b.total = max_table.max_num AND b.year = max_table.year ORDER BY b.year DESC) SELECT name, COUNT(year) FROM most_popular_male_name_by_year GROUP BY name ORDER BY count(year) DESC'  )\n",
        "results = cursor.fetchall()\n",
        "print(tabulate(results, headers=['Name', 'Count Top Male Name'], tablefmt=\"fancy_grid\"))"
      ],
      "metadata": {
        "colab": {
          "base_uri": "https://localhost:8080/"
        },
        "id": "KxtIH7eXNHam",
        "outputId": "c4b779e8-1409-4fdd-f94c-75955577ac52"
      },
      "execution_count": null,
      "outputs": [
        {
          "output_type": "stream",
          "name": "stdout",
          "text": [
            "╒═══════════╤═══════════════════════╕\n",
            "│ Name      │   Count Top Male Name │\n",
            "╞═══════════╪═══════════════════════╡\n",
            "│ William   │                    10 │\n",
            "├───────────┼───────────────────────┤\n",
            "│ Mathias   │                     5 │\n",
            "├───────────┼───────────────────────┤\n",
            "│ Lucas     │                     5 │\n",
            "├───────────┼───────────────────────┤\n",
            "│ Kasper    │                     5 │\n",
            "├───────────┼───────────────────────┤\n",
            "│ Christian │                     4 │\n",
            "├───────────┼───────────────────────┤\n",
            "│ Frederik  │                     3 │\n",
            "├───────────┼───────────────────────┤\n",
            "│ Mikkel    │                     2 │\n",
            "├───────────┼───────────────────────┤\n",
            "│ Oscar     │                     1 │\n",
            "├───────────┼───────────────────────┤\n",
            "│ Noah      │                     1 │\n",
            "├───────────┼───────────────────────┤\n",
            "│ Martin    │                     1 │\n",
            "├───────────┼───────────────────────┤\n",
            "│ Alfred    │                     1 │\n",
            "╘═══════════╧═══════════════════════╛\n"
          ]
        }
      ]
    },
    {
      "cell_type": "markdown",
      "source": [
        "* The \"Semi-classic\" name, \"William\", has been number one for the largest number of years! By the way, if you happen to know Vinh_DK Youtube Channel (he is pretty famous among Vietnamese community in Denmark), this is his youngest son's name. 🥰"
      ],
      "metadata": {
        "id": "FQvE78VRPqev"
      }
    },
    {
      "cell_type": "code",
      "source": [
        "# Commit changes and close connection\n",
        "conn.commit()\n",
        "conn.close()"
      ],
      "metadata": {
        "id": "6ClPr5vJsesR"
      },
      "execution_count": null,
      "outputs": []
    }
  ]
}
